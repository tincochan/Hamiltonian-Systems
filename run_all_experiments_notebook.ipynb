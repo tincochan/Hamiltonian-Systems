{
 "cells": [
  {
   "cell_type": "code",
   "execution_count": null,
   "metadata": {},
   "outputs": [],
   "source": [
    "import numpy as np\n",
    "import torch\n",
    "from utils.analytical_hamiltonian import *\n",
    "from experiments.numerical_experiments import run_experiments_seq\n",
    "from experiments.plotting import plot_convergence, plot_result_time_multiple\n"
   ]
  },
  {
   "cell_type": "code",
   "execution_count": null,
   "metadata": {},
   "outputs": [],
   "source": [
    "torch.manual_seed(0)\n",
    "t_dtype = torch.float64\n",
    "torch.set_default_dtype(t_dtype)\n",
    "\n",
    "b = 10\n",
    "\n",
    "exp_dict = {\n",
    "    'T' :           2*b,\n",
    "    'n_train' :     1*b,\n",
    "    'sigma' :       0.00,\n",
    "\n",
    "    'n_fine':       20,\n",
    "    's_ext':        4,\n",
    "\n",
    "    'hidden_dim':   100,\n",
    "    'epochs':       100,\n",
    "    'mean':         False,\n",
    "}\n",
    "\n",
    "n_trains = np.array([1,2,4])*b\n",
    "integrators = ['mirk2','mirk3','rk4','mirk4','mirk5','mirk6']\n",
    "\n",
    "plot = False"
   ]
  },
  {
   "cell_type": "code",
   "execution_count": null,
   "metadata": {},
   "outputs": [],
   "source": [
    "\n",
    "exp_dict['y0'] = np.array([0.2,0.35,-0.3,0.2])\n",
    "\n",
    "\n",
    "hamiltonian_system = HamiltonianSystem(hamiltonian_henon_heiles)\n",
    "save_every_exp = False\n",
    "save_aggregate_results = \"henon\"\n",
    "result_dict,ys_dict = run_experiments_seq(exp_dict,hamiltonian_system,n_trains,integrators,plot=False,save=save_every_exp)\n",
    "plot_result_time_multiple(ys_dict,exp_dict,n_trains,n_step_size=0,n_dim=2,save=save_aggregate_results)\n",
    "plot_convergence(result_dict,exp_dict,n_trains,save=save_aggregate_results)"
   ]
  },
  {
   "cell_type": "code",
   "execution_count": null,
   "metadata": {},
   "outputs": [],
   "source": [
    "\n",
    "exp_dict['y0'] = np.array([0.2,0.4,-0.3,0.5])\n",
    "\n",
    "\n",
    "fermi_pasta = get_fermi_pasta_ulam_tsingou(m = 1,omega = 2)\n",
    "\n",
    "hamiltonian_system = HamiltonianSystem(fermi_pasta)\n",
    "save_every_exp = False\n",
    "save_aggregate_results = \"fput\"\n",
    "result_dict,ys_dict = run_experiments_seq(exp_dict,hamiltonian_system,n_trains,integrators,plot=False,save=save_every_exp)\n",
    "plot_result_time_multiple(ys_dict,exp_dict,n_trains,n_step_size=1,n_dim=2,save=save_aggregate_results)\n",
    "plot_convergence(result_dict,exp_dict,n_trains,save=save_aggregate_results)"
   ]
  },
  {
   "cell_type": "code",
   "execution_count": null,
   "metadata": {},
   "outputs": [],
   "source": [
    "\n",
    "exp_dict['y0'] = np.array([-0.1,0.5,-0.3,0.1])\n",
    "\n",
    "hamiltonian_system = HamiltonianSystem(hamiltonian_double_pendulum)\n",
    "save_every_exp = False\n",
    "save_aggregate_results = \"dp\"\n",
    "result_dict,ys_dict = run_experiments_seq(exp_dict,hamiltonian_system,n_trains,integrators,plot=False,save=save_every_exp)\n",
    "plot_result_time_multiple(ys_dict,exp_dict,n_trains,n_step_size=0,n_dim=2,save=save_aggregate_results)\n",
    "plot_convergence(result_dict,exp_dict,n_trains,save=save_aggregate_results)"
   ]
  },
  {
   "cell_type": "code",
   "execution_count": null,
   "metadata": {},
   "outputs": [],
   "source": []
  }
 ],
 "metadata": {
  "kernelspec": {
   "display_name": "torch",
   "language": "python",
   "name": "python3"
  },
  "language_info": {
   "codemirror_mode": {
    "name": "ipython",
    "version": 3
   },
   "file_extension": ".py",
   "mimetype": "text/x-python",
   "name": "python",
   "nbconvert_exporter": "python",
   "pygments_lexer": "ipython3",
   "version": "3.8.15"
  },
  "orig_nbformat": 4,
  "vscode": {
   "interpreter": {
    "hash": "e6321305a2b89b9d0be16b640ab097f16877291c7bbb5fba9448c090c23d9290"
   }
  }
 },
 "nbformat": 4,
 "nbformat_minor": 2
}
